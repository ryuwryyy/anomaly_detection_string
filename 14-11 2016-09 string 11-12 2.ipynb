{
 "cells": [
  {
   "cell_type": "code",
   "execution_count": null,
   "metadata": {
    "collapsed": true
   },
   "outputs": [],
   "source": [
    "import pandas as pd\n",
    "from pandas import Series,DataFrame\n",
    "import numpy as np\n",
    "\n",
    "import matplotlib.pyplot as plt\n",
    "import seaborn as sns\n",
    "sns.set_style('whitegrid')\n",
    "%matplotlib inline\n",
    "\n",
    "from  datetime import datetime\n",
    "import datetime\n",
    "\n",
    "string_data = pd.read_csv('14-11_201609.csv', encoding=\"shift-jis\")\n",
    "string_data2 = string_data.rename(columns={\"計測日時\": \"created\", \"ストリング11の電力(W)\": \"power11\", \"ストリング12の電力(W)\": \"power12\"})\n",
    "string_data3 = string_data2.ix[:,['created', 'power11', 'power12']]\n",
    "string_data4 = string_data3.dropna()\n",
    "\n",
    "dates = []\n",
    "for created_time in string_data4.created:\n",
    "    date = datetime.datetime.strptime(created_time, '%Y/%m/%d %H:%M:%S').strftime('%Y/%m/%d')\n",
    "    dates.append(date)\n",
    "\n",
    "string_data4['date'] = dates\n",
    "string_data5 = string_data4.drop('created', axis = 1)\n",
    "string_data6 = string_data5.groupby('date').sum()\n",
    "\n",
    "string_data6['ratio'] = (string_data6['power12'] / string_data6['power11'])\n",
    "string_data7 = string_data6.drop(['power11', 'power12'], axis = 1).dropna()\n",
    "\n",
    "colorlist = ['#FF0000', '#0000FF']\n",
    "string_data6.plot( y=['power11', 'power12'], figsize=(18,6), alpha=0.7, color=colorlist)\n",
    "plt.ylabel(\"Daily power\") \n",
    "plt.title(\"Power of September 2016 in 14-11\")\n",
    "\n",
    "string_data7.plot( y=['ratio'], figsize=(18,6), alpha=1)"
   ]
  }
 ],
 "metadata": {
  "kernelspec": {
   "display_name": "Python 3",
   "language": "python",
   "name": "python3"
  },
  "language_info": {
   "codemirror_mode": {
    "name": "ipython",
    "version": 3
   },
   "file_extension": ".py",
   "mimetype": "text/x-python",
   "name": "python",
   "nbconvert_exporter": "python",
   "pygments_lexer": "ipython3",
   "version": "3.6.1"
  }
 },
 "nbformat": 4,
 "nbformat_minor": 2
}
