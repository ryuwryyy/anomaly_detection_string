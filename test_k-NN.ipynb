{
 "cells": [
  {
   "cell_type": "code",
   "execution_count": 24,
   "metadata": {
    "collapsed": true
   },
   "outputs": [],
   "source": [
    "import pandas as pd\n",
    "from pandas import Series,DataFrame\n",
    "import numpy as np\n",
    "import matplotlib.pyplot as plt\n",
    "import seaborn as sns\n",
    "sns.set_style('whitegrid')\n",
    "%matplotlib inline\n",
    "# import datetime\n",
    "from datetime import datetime"
   ]
  },
  {
   "cell_type": "code",
   "execution_count": null,
   "metadata": {
    "collapsed": true
   },
   "outputs": [],
   "source": [
    "string_data = pd.read_csv('string_data_all.csv', encoding=\"shift-jis\")\n",
    "string_data2 = string_data.rename(columns={\"計測日時\": \"created\", \"ストリング11の電力(W)\": \"power11\", \"ストリング12の電力(W)\": \"power12\"})\n",
    "string_data3 = string_data2.ix[:,['created', 'power11', 'power12']]#行指定なし、列（横）を指定\n",
    "string_data4 = string_data3.dropna()#欠損値を含む　Row（タテ）を除く\n",
    "\n",
    "dates = []\n",
    "for created_time in string_data4.created:\n",
    "    date = datetime.strptime(created_time, '%Y/%m/%d').strftime('%Y/%m/%d')\n",
    "#     date2 = date.replace('/', '')\n",
    "#     date3 = int(date2)\n",
    "#     dates.append(date3)\n",
    "    dates.append(date)\n",
    "    \n",
    "string_data4['date'] = dates\n",
    "string_data5 = string_data4.drop('created', axis = 1)#createdをdateに変更したので消す\n",
    "# string_data6 = string_data5.groupby('date').sum()#集計\n",
    "string_data6 = string_data5.set_index(['date'])\n",
    "\n",
    "string_data6['ratio'] = (string_data6['power12'] / string_data6['power11'])- 1#１１が正解データ\n",
    "# string_data6['error'] = (string_data6['power12'] - string_data6['power11'])#１１が正解データ\n",
    "\n",
    "string_data7 = string_data6.drop(['power11', 'power12'], axis = 1).dropna()#String６を消す\n",
    "string_data8 = string_data7.replace(0.0, np.nan) #0をnanに置き換え\n",
    "string_data9 = string_data8.dropna() #Nanを取り除く\n",
    "\n",
    "# string_data7.plot( y=['error'], figsize=(28, 10), alpha=1)\n",
    "string_data9.plot( y=['ratio'], figsize=(20, 10), alpha=1)"
   ]
  },
  {
   "cell_type": "code",
   "execution_count": null,
   "metadata": {
    "collapsed": true
   },
   "outputs": [],
   "source": [
    "# -*- coding: utf-8 -*-\n",
    "from sklearn.neighbors import NearestNeighbors\n",
    "\n",
    "# 使っていない\n",
    "from pylab import *\n",
    "from matplotlib import font_manager\n",
    "\n",
    "# 日本語使いたい場合(使っていない)\n",
    "fontprop = matplotlib.font_manager.FontProperties(fname=\"/usr/share/fonts/truetype/fonts-japanese-gothic.ttf\")\n",
    "\n",
    "def embed(lst, dim):\n",
    "    emb = np.empty((0, dim), float)\n",
    "    for i in range(lst.size - dim + 1):\n",
    "        # 予測線の精度を下げないため\n",
    "        # データの整形\n",
    "        tmp = np.array(lst[i:i+dim])[::-1].reshape((1,-1)) \n",
    "        # embという配列に入れた(2つ作成)\n",
    "        emb = np.append( emb, tmp, axis=0)\n",
    "    return emb\n",
    "\n",
    "# if __name__ == '__main__':\n",
    "    # main()\n",
    "\n",
    "# 仮説1:前半を正解とし、後半を異常とする場合\n",
    "# data = string_data9.values#numpyに変換\n",
    "# train_data = data[1:4000] \n",
    "# test_data = data[4001:8000]#１１=正解data\n",
    "\n",
    "# 仮説2:power12を正解とし、power11を異常とする場合\n",
    "# data = string_data6.values#numpyに変換\n",
    "# train_data = data[:, 0]# power12=正解data\n",
    "# test_data = data[:, 1]# power11\n",
    "# width = 100\n",
    "# nk = 1\n",
    "\n",
    "# 仮説3:9月を異常とし、1~8月を正常とする場合\n",
    "# data = string_data9.values#numpyに変換\n",
    "# train_data = data[1:4000] # 1~8\n",
    "# test_data = data[4001:8000] # 9\n",
    "# width = 100\n",
    "# nk = 1\n",
    "\n",
    "# numpyに変換\n",
    "data = string_data9.values\n",
    "# 前半のデータ(1月~6月)を訓練させる\n",
    "train_data = data[1:4000]\n",
    "# テストデータ(実施値)\n",
    "test_data = data[4001:8000]\n",
    "\n",
    "width = 35\n",
    "nk = 1\n",
    "\n",
    "train = embed(train_data, width)\n",
    "test = embed(test_data, width)\n",
    "\n",
    "neigh = NearestNeighbors(n_neighbors = nk)\n",
    "neigh.fit(train)\n",
    "# 計算するために1列に直してる\n",
    "d = neigh.kneighbors(test)[0]\n",
    "# 距離をmax1にするデータ整形\n",
    "mx = np.max(d)\n",
    "d = - d / mx\n",
    "# プロット\n",
    "# 4036~8000\n",
    "test_for_plot = data[4001+width: 8000]\n",
    "fig = plt.figure(figsize=(20, 10), dpi = 200)\n",
    "ax1 = fig.add_subplot(1, 1, 1)\n",
    "ax2 = ax1.twinx()\n",
    "\n",
    "p1, =ax1.plot(d, '-b', alpha=1.0)\n",
    "ax1.set_ylabel('d')\n",
    "ax1.set_ylim(-1.0, 0.2)\n",
    "p2, =ax2.plot(test_for_plot, '-g', alpha=0.5)\n",
    "\n",
    "ax2.set_ylabel('ratio')\n",
    "ax2.set_ylim(-1.0, 0.2)\n",
    "plt.title(\"Nearest Neighbors\")\n",
    "ax1.legend([p1, p2], ['d', 'ratio'])\n",
    "plt.show()"
   ]
  },
  {
   "cell_type": "code",
   "execution_count": null,
   "metadata": {
    "collapsed": true
   },
   "outputs": [],
   "source": [
    "len(d)"
   ]
  },
  {
   "cell_type": "code",
   "execution_count": null,
   "metadata": {
    "collapsed": true
   },
   "outputs": [],
   "source": [
    "8224 - 3965"
   ]
  },
  {
   "cell_type": "code",
   "execution_count": null,
   "metadata": {
    "collapsed": true
   },
   "outputs": [],
   "source": [
    "d[0: 1]"
   ]
  },
  {
   "cell_type": "code",
   "execution_count": null,
   "metadata": {
    "collapsed": true
   },
   "outputs": [],
   "source": [
    "string_data10=string_data9['ratio'].values\n",
    "for i in range(len(string_data10)):\n",
    "    ratio = float(string_data10[i: i +1])\n",
    "    if i > 4259:\n",
    "        distance = d[i - 4258: i - 4257]\n",
    "        if ratio < distance:\n",
    "            print(string_data9[i: i+1])"
   ]
  }
 ],
 "metadata": {
  "kernelspec": {
   "display_name": "Python 3",
   "language": "python",
   "name": "python3"
  },
  "language_info": {
   "codemirror_mode": {
    "name": "ipython",
    "version": 3
   },
   "file_extension": ".py",
   "mimetype": "text/x-python",
   "name": "python",
   "nbconvert_exporter": "python",
   "pygments_lexer": "ipython3",
   "version": "3.6.1"
  }
 },
 "nbformat": 4,
 "nbformat_minor": 2
}
